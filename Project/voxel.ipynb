{
 "cells": [
  {
   "cell_type": "code",
   "execution_count": 2,
   "metadata": {},
   "outputs": [
    {
     "ename": "ImportError",
     "evalue": "dlopen(/Library/Frameworks/Python.framework/Versions/3.8/lib/python3.8/site-packages/open3d/cpu/pybind.cpython-38-darwin.so, 0x0002): Library not loaded: /usr/local/opt/libomp/lib/libomp.dylib\n  Referenced from: <3DD86FDF-C162-3CA9-BE4C-3A6B0DCEBF39> /Library/Frameworks/Python.framework/Versions/3.8/lib/python3.8/site-packages/open3d/cpu/pybind.cpython-38-darwin.so\n  Reason: tried: '/usr/local/opt/libomp/lib/libomp.dylib' (no such file), '/System/Volumes/Preboot/Cryptexes/OS/usr/local/opt/libomp/lib/libomp.dylib' (no such file), '/usr/local/opt/libomp/lib/libomp.dylib' (no such file), '/usr/local/lib/libomp.dylib' (no such file), '/usr/lib/libomp.dylib' (no such file, not in dyld cache)",
     "output_type": "error",
     "traceback": [
      "\u001b[0;31m---------------------------------------------------------------------------\u001b[0m",
      "\u001b[0;31mImportError\u001b[0m                               Traceback (most recent call last)",
      "\u001b[1;32m/Users/mathiasmoen/Skole/semester7/3Dmodelling/TBA4256_3D_Digital_modellering/Project/voxel.ipynb Cell 1\u001b[0m in \u001b[0;36m2\n\u001b[1;32m      <a href='vscode-notebook-cell:/Users/mathiasmoen/Skole/semester7/3Dmodelling/TBA4256_3D_Digital_modellering/Project/voxel.ipynb#W0sZmlsZQ%3D%3D?line=0'>1</a>\u001b[0m \u001b[39mimport\u001b[39;00m \u001b[39mlaspy\u001b[39;00m\n\u001b[0;32m----> <a href='vscode-notebook-cell:/Users/mathiasmoen/Skole/semester7/3Dmodelling/TBA4256_3D_Digital_modellering/Project/voxel.ipynb#W0sZmlsZQ%3D%3D?line=1'>2</a>\u001b[0m \u001b[39mimport\u001b[39;00m \u001b[39mopen3d\u001b[39;00m \u001b[39mas\u001b[39;00m \u001b[39mo3d\u001b[39;00m\n\u001b[1;32m      <a href='vscode-notebook-cell:/Users/mathiasmoen/Skole/semester7/3Dmodelling/TBA4256_3D_Digital_modellering/Project/voxel.ipynb#W0sZmlsZQ%3D%3D?line=2'>3</a>\u001b[0m \u001b[39mimport\u001b[39;00m \u001b[39mnumpy\u001b[39;00m \u001b[39mas\u001b[39;00m \u001b[39mnp\u001b[39;00m\n\u001b[1;32m      <a href='vscode-notebook-cell:/Users/mathiasmoen/Skole/semester7/3Dmodelling/TBA4256_3D_Digital_modellering/Project/voxel.ipynb#W0sZmlsZQ%3D%3D?line=3'>4</a>\u001b[0m \u001b[39mfrom\u001b[39;00m \u001b[39mpyntcloud\u001b[39;00m \u001b[39mimport\u001b[39;00m PyntCloud\n",
      "File \u001b[0;32m/Library/Frameworks/Python.framework/Versions/3.8/lib/python3.8/site-packages/open3d/__init__.py:97\u001b[0m\n\u001b[1;32m     91\u001b[0m         warnings\u001b[39m.\u001b[39mwarn(\n\u001b[1;32m     92\u001b[0m             \u001b[39m\"\u001b[39m\u001b[39mOpen3D was built with CUDA support, but Open3D CUDA Python \u001b[39m\u001b[39m\"\u001b[39m\n\u001b[1;32m     93\u001b[0m             \u001b[39m\"\u001b[39m\u001b[39mbinding library not found! Falling back to the CPU Python \u001b[39m\u001b[39m\"\u001b[39m\n\u001b[1;32m     94\u001b[0m             \u001b[39m\"\u001b[39m\u001b[39mbinding library.\u001b[39m\u001b[39m\"\u001b[39m, \u001b[39mImportWarning\u001b[39;00m)\n\u001b[1;32m     96\u001b[0m \u001b[39mif\u001b[39;00m __DEVICE_API__ \u001b[39m==\u001b[39m \u001b[39m'\u001b[39m\u001b[39mcpu\u001b[39m\u001b[39m'\u001b[39m:\n\u001b[0;32m---> 97\u001b[0m     \u001b[39mfrom\u001b[39;00m \u001b[39mopen3d\u001b[39;00m\u001b[39m.\u001b[39;00m\u001b[39mcpu\u001b[39;00m\u001b[39m.\u001b[39;00m\u001b[39mpybind\u001b[39;00m \u001b[39mimport\u001b[39;00m (camera, data, geometry, io, pipelines,\n\u001b[1;32m     98\u001b[0m                                    utility, t)\n\u001b[1;32m     99\u001b[0m     \u001b[39mfrom\u001b[39;00m \u001b[39mopen3d\u001b[39;00m\u001b[39m.\u001b[39;00m\u001b[39mcpu\u001b[39;00m \u001b[39mimport\u001b[39;00m pybind\n\u001b[1;32m    101\u001b[0m \u001b[39mimport\u001b[39;00m \u001b[39mopen3d\u001b[39;00m\u001b[39m.\u001b[39;00m\u001b[39mcore\u001b[39;00m\n",
      "\u001b[0;31mImportError\u001b[0m: dlopen(/Library/Frameworks/Python.framework/Versions/3.8/lib/python3.8/site-packages/open3d/cpu/pybind.cpython-38-darwin.so, 0x0002): Library not loaded: /usr/local/opt/libomp/lib/libomp.dylib\n  Referenced from: <3DD86FDF-C162-3CA9-BE4C-3A6B0DCEBF39> /Library/Frameworks/Python.framework/Versions/3.8/lib/python3.8/site-packages/open3d/cpu/pybind.cpython-38-darwin.so\n  Reason: tried: '/usr/local/opt/libomp/lib/libomp.dylib' (no such file), '/System/Volumes/Preboot/Cryptexes/OS/usr/local/opt/libomp/lib/libomp.dylib' (no such file), '/usr/local/opt/libomp/lib/libomp.dylib' (no such file), '/usr/local/lib/libomp.dylib' (no such file), '/usr/lib/libomp.dylib' (no such file, not in dyld cache)"
     ]
    }
   ],
   "source": [
    "import laspy\n",
    "import open3d as o3d\n",
    "import numpy as np\n",
    "from pyntcloud import PyntCloud\n",
    "import pylas\n",
    "import pptk\n",
    "from sklearn.decomposition import PCA\n",
    "import os\n",
    "import matplotlib as plt\n",
    "\n"
   ]
  },
  {
   "cell_type": "markdown",
   "metadata": {},
   "source": [
    "# Preprossessing"
   ]
  },
  {
   "cell_type": "code",
   "execution_count": 1,
   "metadata": {},
   "outputs": [
    {
     "ename": "NameError",
     "evalue": "name 'laspy' is not defined",
     "output_type": "error",
     "traceback": [
      "\u001b[0;31m---------------------------------------------------------------------------\u001b[0m",
      "\u001b[0;31mNameError\u001b[0m                                 Traceback (most recent call last)",
      "\u001b[1;32m/Users/mathiasmoen/Skole/semester7/3Dmodelling/TBA4256_3D_Digital_modellering/Project/voxel.ipynb Cell 3\u001b[0m in \u001b[0;36m3\n\u001b[1;32m      <a href='vscode-notebook-cell:/Users/mathiasmoen/Skole/semester7/3Dmodelling/TBA4256_3D_Digital_modellering/Project/voxel.ipynb#W2sZmlsZQ%3D%3D?line=0'>1</a>\u001b[0m \u001b[39m#reading the las file.\u001b[39;00m\n\u001b[1;32m      <a href='vscode-notebook-cell:/Users/mathiasmoen/Skole/semester7/3Dmodelling/TBA4256_3D_Digital_modellering/Project/voxel.ipynb#W2sZmlsZQ%3D%3D?line=1'>2</a>\u001b[0m path \u001b[39m=\u001b[39m \u001b[39m\"\u001b[39m\u001b[39mdata.las\u001b[39m\u001b[39m\"\u001b[39m\n\u001b[0;32m----> <a href='vscode-notebook-cell:/Users/mathiasmoen/Skole/semester7/3Dmodelling/TBA4256_3D_Digital_modellering/Project/voxel.ipynb#W2sZmlsZQ%3D%3D?line=2'>3</a>\u001b[0m las \u001b[39m=\u001b[39m laspy\u001b[39m.\u001b[39mread(path)\n\u001b[1;32m      <a href='vscode-notebook-cell:/Users/mathiasmoen/Skole/semester7/3Dmodelling/TBA4256_3D_Digital_modellering/Project/voxel.ipynb#W2sZmlsZQ%3D%3D?line=4'>5</a>\u001b[0m \u001b[39m# #Coordinates of points\u001b[39;00m\n\u001b[1;32m      <a href='vscode-notebook-cell:/Users/mathiasmoen/Skole/semester7/3Dmodelling/TBA4256_3D_Digital_modellering/Project/voxel.ipynb#W2sZmlsZQ%3D%3D?line=5'>6</a>\u001b[0m coords \u001b[39m=\u001b[39m np\u001b[39m.\u001b[39mvstack((las\u001b[39m.\u001b[39mx, las\u001b[39m.\u001b[39my, las\u001b[39m.\u001b[39mz))\u001b[39m.\u001b[39mtranspose()\n",
      "\u001b[0;31mNameError\u001b[0m: name 'laspy' is not defined"
     ]
    }
   ],
   "source": [
    "#reading the las file.\n",
    "path = \"data.las\"\n",
    "las = laspy.read(path)\n",
    "\n",
    "# #Coordinates of points\n",
    "coords = np.vstack((las.x, las.y, las.z)).transpose()\n",
    "colors = np.vstack((las.red, las.green, las.blue)).transpose()\n",
    "print(coords.shape)\n",
    "\n"
   ]
  },
  {
   "cell_type": "markdown",
   "metadata": {},
   "source": [
    "## Subset was selected from the PPTK - Viewer"
   ]
  },
  {
   "cell_type": "markdown",
   "metadata": {},
   "source": [
    "<b> To select subset, run step 1. </b> <br> - Hold [CTRL] and select area with [LMB]. <br> - To clear all selected press [RMB], or Use [shift] + [CTRL] and mark to remove selected points.\n",
    "<br>\n",
    "<br>\n",
    "<b> Dont close the Viewer and run step 2. </b>\n",
    "<br> After step.2 is done, the Viewer is safe to exit and the points are stored in the variable."
   ]
  },
  {
   "cell_type": "markdown",
   "metadata": {},
   "source": [
    "### Step 1 - Visualize and select"
   ]
  },
  {
   "cell_type": "code",
   "execution_count": 277,
   "metadata": {},
   "outputs": [],
   "source": [
    "v = pptk.viewer(coords)\n",
    "v.set(point_size=0.005)"
   ]
  },
  {
   "cell_type": "markdown",
   "metadata": {},
   "source": [
    "### Step 2 - get selected points id and find the points"
   ]
  },
  {
   "cell_type": "code",
   "execution_count": 15,
   "metadata": {},
   "outputs": [],
   "source": [
    "points_id = v.get('selected')\n",
    "points = coords[points_id]"
   ]
  },
  {
   "cell_type": "markdown",
   "metadata": {},
   "source": [
    "## Using open3D tool for noise filtering"
   ]
  },
  {
   "cell_type": "code",
   "execution_count": 17,
   "metadata": {},
   "outputs": [
    {
     "name": "stdout",
     "output_type": "stream",
     "text": [
      "Showing outliers (red) and inliers (gray): \n",
      "[Open3D WARNING] GLFW Error: WGL: Failed to make context current: The handle is invalid. \n",
      "[Open3D WARNING] GLFW Error: WGL: Failed to make context current: The handle is invalid. \n",
      "[Open3D WARNING] GLFW Error: WGL: Failed to make context current: The handle is invalid. \n",
      "[Open3D WARNING] GLFW Error: WGL: Failed to make context current: The requested transformation operation is not supported. \n",
      "[Open3D WARNING] GLFW Error: WGL: Failed to make context current: The requested transformation operation is not supported. \n",
      "[Open3D WARNING] GLFW Error: WGL: Failed to make context current: The handle is invalid. \n",
      "[Open3D WARNING] GLFW Error: WGL: Failed to make context current: The handle is invalid. \n"
     ]
    }
   ],
   "source": [
    "pcd_sub = o3d.geometry.PointCloud()\n",
    "pcd_sub.points = o3d.utility.Vector3dVector(points)\n",
    "cl, ind = pcd_sub.remove_radius_outlier(nb_points=10, radius=5)\n",
    "\n",
    "def display_inlier_outlier(cloud, ind):\n",
    "    inlier_cloud = cloud.select_by_index(ind)\n",
    "    outlier_cloud = cloud.select_by_index(ind, invert=True)\n",
    "\n",
    "    print(\"Showing outliers (red) and inliers (gray): \")\n",
    "    outlier_cloud.paint_uniform_color([1, 0, 0])\n",
    "    inlier_cloud.paint_uniform_color([0.8, 0.8, 0.8])\n",
    "    o3d.visualization.draw_geometries([inlier_cloud, outlier_cloud])\n",
    "\n",
    "display_inlier_outlier(pcd_sub, ind)"
   ]
  },
  {
   "cell_type": "markdown",
   "metadata": {},
   "source": [
    "## Saving subset without noise as .ply file"
   ]
  },
  {
   "cell_type": "code",
   "execution_count": 18,
   "metadata": {},
   "outputs": [
    {
     "data": {
      "text/plain": [
       "True"
      ]
     },
     "execution_count": 18,
     "metadata": {},
     "output_type": "execute_result"
    }
   ],
   "source": [
    "inlier_cloud = pcd_sub.select_by_index(ind)\n",
    "o3d.io.write_point_cloud(\"data.ply\", inlier_cloud)"
   ]
  },
  {
   "cell_type": "markdown",
   "metadata": {},
   "source": [
    "## Loading the subset"
   ]
  },
  {
   "cell_type": "code",
   "execution_count": 19,
   "metadata": {},
   "outputs": [],
   "source": [
    "cloud = PyntCloud.from_file(\"data.ply\")\n",
    "pcd_sub = o3d.io.read_point_cloud(\"data.ply\")\n"
   ]
  },
  {
   "cell_type": "markdown",
   "metadata": {},
   "source": [
    "## Voxelization"
   ]
  },
  {
   "cell_type": "code",
   "execution_count": 930,
   "metadata": {},
   "outputs": [
    {
     "name": "stdout",
     "output_type": "stream",
     "text": [
      "Number of points 3419462, number of voxels 2016252\n",
      "Occupied voxels: 18819\n"
     ]
    }
   ],
   "source": [
    "voxel_size = 5  #x*y*z box size\n",
    "voxelgrid_id = cloud.add_structure(\"voxelgrid\", size_x=voxel_size, size_y=voxel_size, size_z=voxel_size)\n",
    "voxelgrid = cloud.structures[voxelgrid_id]\n",
    "new_cloud = cloud.get_sample(\"voxelgrid_nearest\", voxelgrid_id=voxelgrid_id, as_PyntCloud=True)\n",
    "\n",
    "print(f\"Number of points {len(cloud.points)}, number of voxels {voxelgrid.n_voxels}\")\n",
    "occupied_voxels = np.unique(voxelgrid.voxel_n)\n",
    "print(\"Occupied voxels:\", len(occupied_voxels))"
   ]
  },
  {
   "cell_type": "markdown",
   "metadata": {},
   "source": [
    "## Visualize voxelgrid\n",
    "The density mode will return a 3D array with a value normalized between 0 and 1 representing the percentage of points that each voxel contains."
   ]
  },
  {
   "cell_type": "code",
   "execution_count": 931,
   "metadata": {},
   "outputs": [
    {
     "ename": "ImportError",
     "evalue": "matplotlib is required for non-binary plotting",
     "output_type": "error",
     "traceback": [
      "\u001b[1;31m---------------------------------------------------------------------------\u001b[0m",
      "\u001b[1;31mImportError\u001b[0m                               Traceback (most recent call last)",
      "\u001b[1;32m<ipython-input-931-58556d83c60b>\u001b[0m in \u001b[0;36m<module>\u001b[1;34m\u001b[0m\n\u001b[0;32m      3\u001b[0m \u001b[0mo3d\u001b[0m\u001b[1;33m.\u001b[0m\u001b[0mvisualization\u001b[0m\u001b[1;33m.\u001b[0m\u001b[0mdraw_geometries\u001b[0m\u001b[1;33m(\u001b[0m\u001b[1;33m[\u001b[0m\u001b[0mvoxel_grid\u001b[0m\u001b[1;33m]\u001b[0m\u001b[1;33m)\u001b[0m\u001b[1;33m\u001b[0m\u001b[1;33m\u001b[0m\u001b[0m\n\u001b[0;32m      4\u001b[0m \u001b[1;33m\u001b[0m\u001b[0m\n\u001b[1;32m----> 5\u001b[1;33m \u001b[0mvoxelgrid\u001b[0m\u001b[1;33m.\u001b[0m\u001b[0mplot\u001b[0m\u001b[1;33m(\u001b[0m\u001b[0md\u001b[0m\u001b[1;33m=\u001b[0m\u001b[1;36m3\u001b[0m\u001b[1;33m,\u001b[0m \u001b[0mmode\u001b[0m\u001b[1;33m=\u001b[0m\u001b[1;34m\"density\"\u001b[0m\u001b[1;33m,\u001b[0m \u001b[0mcmap\u001b[0m\u001b[1;33m=\u001b[0m\u001b[1;34m\"OrRd\"\u001b[0m\u001b[1;33m)\u001b[0m\u001b[1;33m\u001b[0m\u001b[1;33m\u001b[0m\u001b[0m\n\u001b[0m",
      "\u001b[1;32mc:\\Users\\mathi\\miniconda3\\envs\\project\\lib\\site-packages\\pyntcloud\\structures\\voxelgrid.py\u001b[0m in \u001b[0;36mplot\u001b[1;34m(self, d, mode, backend, cmap, axis, output_name, width, height)\u001b[0m\n\u001b[0;32m    287\u001b[0m                               \u001b[0moutput_name\u001b[0m\u001b[1;33m=\u001b[0m\u001b[0moutput_name\u001b[0m\u001b[1;33m,\u001b[0m\u001b[1;33m\u001b[0m\u001b[1;33m\u001b[0m\u001b[0m\n\u001b[0;32m    288\u001b[0m                               \u001b[0mwidth\u001b[0m\u001b[1;33m=\u001b[0m\u001b[0mwidth\u001b[0m\u001b[1;33m,\u001b[0m\u001b[1;33m\u001b[0m\u001b[1;33m\u001b[0m\u001b[0m\n\u001b[1;32m--> 289\u001b[1;33m                               height=height)\n\u001b[0m",
      "\u001b[1;32mc:\\Users\\mathi\\miniconda3\\envs\\project\\lib\\site-packages\\pyntcloud\\plot\\voxelgrid.py\u001b[0m in \u001b[0;36mplot_voxelgrid\u001b[1;34m(voxelgrid, d, mode, backend, cmap, **kwargs)\u001b[0m\n\u001b[0;32m    218\u001b[0m     \u001b[1;31m# Voxelgrid colors\u001b[0m\u001b[1;33m\u001b[0m\u001b[1;33m\u001b[0m\u001b[1;33m\u001b[0m\u001b[0m\n\u001b[0;32m    219\u001b[0m     \u001b[1;32mif\u001b[0m \u001b[0mmode\u001b[0m \u001b[1;33m!=\u001b[0m \u001b[1;34m'binary'\u001b[0m \u001b[1;32mand\u001b[0m \u001b[0mplt\u001b[0m \u001b[1;32mis\u001b[0m \u001b[1;32mNone\u001b[0m\u001b[1;33m:\u001b[0m\u001b[1;33m\u001b[0m\u001b[1;33m\u001b[0m\u001b[0m\n\u001b[1;32m--> 220\u001b[1;33m         \u001b[1;32mraise\u001b[0m \u001b[0mImportError\u001b[0m\u001b[1;33m(\u001b[0m\u001b[1;34m\"matplotlib is required for non-binary plotting\"\u001b[0m\u001b[1;33m)\u001b[0m\u001b[1;33m\u001b[0m\u001b[1;33m\u001b[0m\u001b[0m\n\u001b[0m\u001b[0;32m    221\u001b[0m     \u001b[1;32melif\u001b[0m \u001b[0mmode\u001b[0m \u001b[1;33m!=\u001b[0m \u001b[1;34m'binary'\u001b[0m\u001b[1;33m:\u001b[0m\u001b[1;33m\u001b[0m\u001b[1;33m\u001b[0m\u001b[0m\n\u001b[0;32m    222\u001b[0m         \u001b[0ms_m\u001b[0m \u001b[1;33m=\u001b[0m \u001b[0mplt\u001b[0m\u001b[1;33m.\u001b[0m\u001b[0mcm\u001b[0m\u001b[1;33m.\u001b[0m\u001b[0mScalarMappable\u001b[0m\u001b[1;33m(\u001b[0m\u001b[0mcmap\u001b[0m\u001b[1;33m=\u001b[0m\u001b[0mcmap\u001b[0m\u001b[1;33m)\u001b[0m\u001b[1;33m\u001b[0m\u001b[1;33m\u001b[0m\u001b[0m\n",
      "\u001b[1;31mImportError\u001b[0m: matplotlib is required for non-binary plotting"
     ]
    }
   ],
   "source": [
    "#open3d\n",
    "voxel_grid = o3d.geometry.VoxelGrid.create_from_point_cloud(pcd_sub, voxel_size=voxel_size)\n",
    "o3d.visualization.draw_geometries([voxel_grid])\n",
    "\n",
    "voxelgrid.plot(d=3, mode=\"density\", cmap=\"OrRd\")"
   ]
  },
  {
   "cell_type": "markdown",
   "metadata": {},
   "source": [
    "## PCA"
   ]
  },
  {
   "cell_type": "code",
   "execution_count": 932,
   "metadata": {},
   "outputs": [
    {
     "name": "stdout",
     "output_type": "stream",
     "text": [
      "[5.76801470e+05 7.03377685e+06 4.49300000e+01 5.99532000e+05\n",
      " 3.04353000e+05 1.42541100e+06]\n"
     ]
    }
   ],
   "source": [
    "pca = PCA(n_components=3) #tre dimensjoner\n",
    "pcd_array = np.asarray(cloud.points)\n",
    "print(pcd_array[0])"
   ]
  },
  {
   "cell_type": "markdown",
   "metadata": {},
   "source": [
    "## Feature selection"
   ]
  },
  {
   "cell_type": "code",
   "execution_count": 933,
   "metadata": {},
   "outputs": [],
   "source": [
    "features = np.zeros((occupied_voxels.shape[0], 11))"
   ]
  },
  {
   "cell_type": "code",
   "execution_count": 934,
   "metadata": {},
   "outputs": [],
   "source": [
    "def standard_deviation_from_plane(points):\n",
    "        # Plane calculation mostly taken from: \n",
    "        # https://gist.github.com/amroamroamro/1db8d69b4b65e8bc66a6\n",
    "\n",
    "        # The centroid\n",
    "        centroid = np.sum(points, axis=0)/points.shape[0]\n",
    "\n",
    "        # Centered data\n",
    "        c_data = points - centroid\n",
    "        A = np.c_[c_data[:,0], c_data[:,1], np.ones(c_data.shape[0])]\n",
    "\n",
    "        # Plane coefficients\n",
    "        C,_,_,_ = np.linalg.lstsq(A, c_data[:,2], rcond=None)\n",
    "        #       Z = C[0]*X + C[1]*Y + C[2]\n",
    "        # =>    C[0]*X + C[1]*Y -1*Z + C[2] = 0\n",
    "\n",
    "        # Distances from the plane\n",
    "        distances = np.abs(C[0]*c_data[:,0] + C[1]*c_data[:,1] -1*c_data[:,2] + C[2]) / np.sqrt(C[0]**2 + C[1]**2 + 1)\n",
    "\n",
    "        # Normalize distances\n",
    "        distances /= voxel_size\n",
    "\n",
    "        # Return the standard deviation\n",
    "        return np.std(distances)\n"
   ]
  },
  {
   "cell_type": "markdown",
   "metadata": {},
   "source": [
    "# Finding features for each voxel"
   ]
  },
  {
   "cell_type": "code",
   "execution_count": 935,
   "metadata": {},
   "outputs": [],
   "source": [
    "for i, voxel in enumerate(occupied_voxels):\n",
    "\n",
    "    volex_i = np.where(voxelgrid.voxel_n == voxel)\n",
    "    voxel_points = pcd_array[volex_i]\n",
    "    # print(f\"voxel points {voxel_points}\")\n",
    "    \n",
    "    #voxel have to contain enough points\n",
    "    if len(volex_i[0]) > 5*voxel_size: \n",
    "        #Finding eigenvalue and vector\n",
    "        pca.fit(voxel_points)\n",
    "        eigenval = pca.explained_variance_\n",
    "        eigenval_norm = pca.explained_variance_ratio_\n",
    "        eigenvectors = pca.components_\n",
    "\n",
    "        #Finding normals angle for slope-classificaiton\n",
    "        normal_vec = eigenvectors[2]\n",
    "        normal_vec = normal_vec[:3]\n",
    "        z_normal = np.array([0,0,1])\n",
    "        angle = np.degrees(np.arccos(np.dot(normal_vec, z_normal ) / (np.linalg.norm(normal_vec) * np.linalg.norm(z_normal))))\n",
    "        if angle > 90:\n",
    "            angle = 180 - angle \n",
    "\n",
    "        #Get lambda1, lambda2, lambda3 from eigenvalue\n",
    "        l1, l2, l3 = eigenval_norm\n",
    "\n",
    "        L = (l1 - l2) / l1                                                      # Linearity\n",
    "        P = (l2 - l3) / l1                                                      # Planarity\n",
    "        S = l3 / l1                                                             # Scattering, sphericity\n",
    "        O = (l1 * l2 * l3) ** (1 / 3)                                           # Omnivariance\n",
    "        sum_ev = eigenval[0] + eigenval[1] + eigenval[2]                        # Sum of eigenvalues\n",
    "        sum_ev_norm = l1 + l2 + l3                                              # Sum of un-normalized eigenvalues\n",
    "        A = (l1 - l3) / l1                                                      # Anisotropy\n",
    "        E = -1 * ((l1 * np.log(l1)) + (l2 * np.log(l2)) + (l3 * np.log(l3)))    # Eigenentropy\n",
    "        change_curvature = l3 / sum_ev_norm                                     # Change of curvature\n",
    "\n",
    "        \n",
    "        #point spread in z axis\n",
    "        z_range = (np.max(voxel_points[:,2]) - np.min(voxel_points[:,2])) / voxel_size\n",
    "\n",
    "        #the standard deviation from plane\n",
    "        plane_std = standard_deviation_from_plane(voxel_points)\n",
    "\n",
    "        feature = [L, P, S, O, sum_ev_norm, A, E, change_curvature, z_range, plane_std, angle]\n",
    "        features[i] = feature"
   ]
  },
  {
   "cell_type": "markdown",
   "metadata": {},
   "source": [
    "# Selecting points for known classes to find ground truth of class features"
   ]
  },
  {
   "cell_type": "markdown",
   "metadata": {},
   "source": [
    "# Building selection"
   ]
  },
  {
   "cell_type": "code",
   "execution_count": 890,
   "metadata": {},
   "outputs": [],
   "source": [
    "v = pptk.viewer(pcd_sub.points)\n",
    "v.set(point_size=0.005)"
   ]
  },
  {
   "cell_type": "code",
   "execution_count": 891,
   "metadata": {},
   "outputs": [
    {
     "data": {
      "text/plain": [
       "array([1356704, 1356829, 1356830, 1372579, 1372580, 1372705, 1372706,\n",
       "       1372831, 1372832, 1372833, 1372958, 1372959, 1388581, 1388582,\n",
       "       1388707, 1388708, 1388709, 1388834, 1388835, 1404583, 1404584,\n",
       "       1404710, 1404711, 1404836, 1404837, 1420585, 1420586, 1420712,\n",
       "       1420713, 1420838, 1436587, 1436588, 1436713, 1436714, 1436715,\n",
       "       1436839, 1436840], dtype=int64)"
      ]
     },
     "execution_count": 891,
     "metadata": {},
     "output_type": "execute_result"
    }
   ],
   "source": [
    "building = v.get('selected')\n",
    "builing_points = pcd_array[building]\n",
    "building_voxel_id = voxelgrid.query(builing_points)\n",
    "building_voxel_id = np.unique(building_voxel_id)\n",
    "building_voxel_id"
   ]
  },
  {
   "cell_type": "markdown",
   "metadata": {},
   "source": [
    "## Finding feature indicies by finding voxel in occupied voxels"
   ]
  },
  {
   "cell_type": "code",
   "execution_count": 907,
   "metadata": {},
   "outputs": [
    {
     "name": "stdout",
     "output_type": "stream",
     "text": [
      "[14717, 14718, 14719, 14921, 14922, 14924, 14925, 14926, 14927, 14928, 14930, 14931, 15137, 15138, 15139, 15140, 15141, 15143, 15144, 15335, 15336, 15337, 15338, 15340, 15341, 15541, 15542, 15543, 15544, 15546, 15761, 15762, 15763, 15764, 15765, 15766, 15767]\n"
     ]
    }
   ],
   "source": [
    "building_indecies = []\n",
    "for i, voxel in enumerate(occupied_voxels):\n",
    "    for build_voxel in building_voxel_id:\n",
    "        if voxel == build_voxel:\n",
    "            building_indecies.append(i)\n",
    "\n",
    "print(building_indecies)\n",
    "\n",
    "building_indecies = [\n",
    " 15140, 15141, 15143, 15144,\n",
    "15337, 15338, 15340, 15341,\n",
    "15543, 15544, 15546,\n",
    "]\n",
    "\n"
   ]
  },
  {
   "cell_type": "markdown",
   "metadata": {},
   "source": [
    "## Calulating mean features for buildings. <br>"
   ]
  },
  {
   "cell_type": "code",
   "execution_count": 908,
   "metadata": {},
   "outputs": [],
   "source": [
    "# Printing feature for each voxel\n",
    "for v_i in building_indecies:\n",
    "    feature = features[v_i]\n",
    "    L = feature[0]\n",
    "    P = feature[1] \n",
    "    S = feature[2] \n",
    "    O = feature[3]\n",
    "    sumEvN = feature[4]\n",
    "    A = feature[5] \n",
    "    Eigentrhopy = feature[6] \n",
    "    change_curvature =feature[7]\n",
    "    z_range = feature[8]\n",
    "    st_plane = feature[9]\n",
    "    angle = feature[10]\n",
    "    \n",
    "    # print(f\" Linear {L}, Planarity {P}, Scattering {S}, Omnivariance {O}, Anisotropy {A}, Eigenthropy {Eigentrhopy}, change_curvature {change_curvature}, z_range {z_range}, st_plane {st_plane} \")\n",
    "    # print(f\"angle: {angle}\")\n",
    "\n",
    "\n",
    "#VISUALIZE SELECTEDBUIILDING VOXEL POINTS\n",
    "# # Initialize the point arrays\n",
    "selected_building_points = np.zeros((1,3))\n",
    "for i in building_indecies:\n",
    "    voxel = occupied_voxels[i]\n",
    "    tmp = np.where(voxelgrid.voxel_n == voxel)\n",
    "    voxel_points = pcd_array[tmp]\n",
    "    selected_building_points = np.append(selected_building_points, voxel_points[:,:3], axis=0)\n",
    "\n",
    "# # Delete the initial zeros\n",
    "selected_building_points = np.delete(selected_building_points, 0, axis=0)\n",
    "\n",
    "building = o3d.geometry.PointCloud()\n",
    "building.points = o3d.utility.Vector3dVector(selected_building_points)\n",
    "building.paint_uniform_color([0, 1, 0])\n",
    "o3d.visualization.draw_geometries([building])"
   ]
  },
  {
   "cell_type": "markdown",
   "metadata": {},
   "source": [
    "## Ground truth"
   ]
  },
  {
   "cell_type": "code",
   "execution_count": 909,
   "metadata": {},
   "outputs": [
    {
     "name": "stdout",
     "output_type": "stream",
     "text": [
      "[5.45454532e-01 1.04073900e-08 3.11057314e-09 2.81015703e-06\n",
      " 5.45454545e-01 5.45454542e-01 3.12330678e-07 3.11057304e-09\n",
      " 4.80363636e-01 1.56070880e-02 4.74231349e+01]\n"
     ]
    }
   ],
   "source": [
    "## Metode\n",
    "building_mean_feature = np.mean([features[v_i] for v_i in building_indecies], axis=0)\n",
    "\n",
    "# mine\n",
    "# building_mean_feature = np.array([9.19687852e-01, 1.92624628e-02, 2.22615534e-03, 6.33922124e-03, 9.41134298e-01, 9.38950315e-01, 2.45037245e-02, 1.23423423e-03, 3.85882353e-01, 3.40600664e-02, 6.75481204e+01])\n",
    "\n",
    "# Data Sarun\n",
    "# building_mean_feature = np.array([3.16798368e-01, 5.91370207e-01, 3.18314249e-02, 1.06457223e-01, 9.40000000e-01, 9.08168575e-01, 6.65824570e-01, 1.77401593e-02, 4.70950000e-01, 2.53849077e-02, 2.21350506e+01])\n",
    "\n",
    "# Data Alfred\n",
    "# building_mean_feature = np.array([0.33163354789966903, 0.5804872035663875, 0.08787924853394344, 0.1970603392467401, 11.058980588099054, 0.9121207514660565, 0.7935565870483143, 0.046663981433086914, 0.6151249885559082, 0.060233117960162216, 0])\n",
    "\n",
    "# fra excel\n",
    "# building_mean_feature = np.array([])\n",
    "\n",
    "\n",
    "print(building_mean_feature)"
   ]
  },
  {
   "cell_type": "markdown",
   "metadata": {},
   "source": [
    "## Classifying builing voxels based on ground truth"
   ]
  },
  {
   "cell_type": "code",
   "execution_count": 971,
   "metadata": {},
   "outputs": [
    {
     "name": "stdout",
     "output_type": "stream",
     "text": [
      "1129\n"
     ]
    }
   ],
   "source": [
    "building_voxels = []\n",
    "\n",
    "for i, feature in enumerate(features):\n",
    "    L = np.abs(feature[0] - building_mean_feature[0])\n",
    "    P = np.abs(feature[1] - building_mean_feature[1])\n",
    "    S = np.abs(feature[2] - building_mean_feature[2])\n",
    "    O = np.abs(feature[3] - building_mean_feature[3])\n",
    "    sumEvN = np.abs(feature[4] - building_mean_feature[4])\n",
    "    A = np.abs(feature[5] - building_mean_feature[5])\n",
    "    Eigentrhopy = np.abs(feature[6] - building_mean_feature[6])\n",
    "    change_curvature = np.abs(feature[7] - building_mean_feature[7])\n",
    "\n",
    "    Lin = feature[0]\n",
    "    plan = feature[1]\n",
    "    scat = feature[2]\n",
    "    sumE = feature[4]\n",
    "    an = feature[5]\n",
    "    cc = feature[7]\n",
    "    h = feature[8]\n",
    "    stp = feature[9]\n",
    "\n",
    "    z_range = np.abs(feature[8] - building_mean_feature[8])\n",
    "    st_plane =np.abs(feature[9] - building_mean_feature[9])\n",
    "    angle = feature[10]\n",
    "    #st 0,05 o < 0.1\n",
    "    #Sarun\n",
    "    #if L < 0.7 and P < 0.3 and S < 0.06 and A < 0.12 and change_curvature > 0.005 and z_range < 0.3 and st_plane < 0.035 and angle > 18 and angle < 40:\n",
    "    #  building_voxels.append(i) \n",
    "    #if L < 0.7 and P < 0.3 and S < 0.08 and A < 0.12 and change_curvature > 0.001 and z_range < 0.33 and st_plane < 0.04 and angle > 15 and angle < 60: \n",
    "    #  building_voxels.append(i)\n",
    "    \n",
    "    #bpa excel\n",
    "    cc = feature[7]\n",
    "    h = feature[8]\n",
    "    angle = feature[10]\n",
    "\n",
    "    if 0.1<h<0.7 and angle<70 and cc<0.00001:\n",
    "      building_voxels.append(i)\n",
    "    # cc<0.00001 kanskje bra for å skille tree og hus\n",
    "    # h<0.45 and h>0.2\n",
    "    # stp>0.01 fjerner mye bakke, ligger i kryssningspunkt\n",
    "    # 0.01<stp<0.04 ganske ok\n",
    "    # an < 0.9 tar ikke hele taket\n",
    "      \n",
    "\n",
    "print(len(building_voxels))"
   ]
  },
  {
   "cell_type": "markdown",
   "metadata": {},
   "source": [
    "## Visualizing classified buildings"
   ]
  },
  {
   "cell_type": "code",
   "execution_count": 972,
   "metadata": {},
   "outputs": [],
   "source": [
    "# Initialize the point arrays\n",
    "building_points = np.zeros((1,3))\n",
    "\n",
    "for i in building_voxels:\n",
    "    voxel = occupied_voxels[i]\n",
    "    tmp = np.where(voxelgrid.voxel_n == voxel)\n",
    "    voxel_points = pcd_array[tmp]\n",
    "    building_points = np.append(building_points, voxel_points[:,:3], axis=0)\n",
    "\n",
    "# # Delete the initial zeros\n",
    "building_points = np.delete(building_points, 0, axis=0)"
   ]
  },
  {
   "cell_type": "code",
   "execution_count": 973,
   "metadata": {},
   "outputs": [
    {
     "name": "stdout",
     "output_type": "stream",
     "text": [
      "[Open3D WARNING] GLFW Error: WGL: Failed to make context current: The handle is invalid. \n",
      "[Open3D WARNING] GLFW Error: WGL: Failed to make context current: The requested transformation operation is not supported. \n",
      "[Open3D WARNING] GLFW Error: WGL: Failed to make context current: The requested transformation operation is not supported. \n",
      "[Open3D WARNING] GLFW Error: WGL: Failed to make context current: The handle is invalid. \n",
      "[Open3D WARNING] GLFW Error: WGL: Failed to make context current: The requested transformation operation is not supported. \n",
      "[Open3D WARNING] GLFW Error: WGL: Failed to make context current: The requested transformation operation is not supported. \n"
     ]
    }
   ],
   "source": [
    "building = o3d.geometry.PointCloud()\n",
    "building.points = o3d.utility.Vector3dVector(building_points)\n",
    "building.paint_uniform_color([0, 1, 0])\n",
    "o3d.visualization.draw_geometries([building])"
   ]
  },
  {
   "cell_type": "code",
   "execution_count": 918,
   "metadata": {},
   "outputs": [],
   "source": [
    "voxel_grid = o3d.geometry.VoxelGrid.create_from_point_cloud(pcd_sub, voxel_size=voxel_size)\n",
    "\n",
    "voxel_grid3 = o3d.geometry.VoxelGrid.create_from_point_cloud(building, voxel_size=voxel_size)\n",
    "o3d.visualization.draw_geometries([voxel_grid, voxel_grid3])"
   ]
  },
  {
   "cell_type": "markdown",
   "metadata": {},
   "source": [
    "# Tree selection"
   ]
  },
  {
   "cell_type": "markdown",
   "metadata": {},
   "source": [
    "## Selecting trees"
   ]
  },
  {
   "cell_type": "code",
   "execution_count": 626,
   "metadata": {},
   "outputs": [],
   "source": [
    "v = pptk.viewer(pcd_sub.points)\n",
    "v.set(point_size=0.005)"
   ]
  },
  {
   "cell_type": "code",
   "execution_count": 627,
   "metadata": {},
   "outputs": [
    {
     "data": {
      "text/plain": [
       "array([1256158, 1256159, 1256285, 1272034, 1272160, 1272161, 1272162,\n",
       "       1272163, 1272286, 1272287, 1272288, 1272289, 1272412, 1272413,\n",
       "       1287910, 1287911, 1288036, 1288037, 1288038, 1288162, 1288163,\n",
       "       1288164, 1288165, 1288288, 1288289, 1288290, 1288291, 1288414,\n",
       "       1288415, 1288416, 1288417, 1288541, 1288542, 1288543, 1303786,\n",
       "       1303912, 1303913, 1303914, 1304038, 1304039, 1304040, 1304041,\n",
       "       1304164, 1304165, 1304166, 1304291, 1304292, 1304293, 1304417,\n",
       "       1304418, 1304419, 1304543, 1304544, 1304545, 1304670, 1304671,\n",
       "       1319662, 1319788, 1319789, 1319790, 1319914, 1319915, 1319916,\n",
       "       1319917, 1320041, 1320042, 1320043, 1320167, 1320168, 1320169,\n",
       "       1320293, 1320294, 1320295, 1320419, 1320420, 1320421, 1320422,\n",
       "       1320545, 1320546, 1320547, 1320548, 1335790, 1335791, 1335792,\n",
       "       1335917, 1335918, 1335919, 1336043, 1336044, 1336045, 1336169,\n",
       "       1336170, 1336295, 1336296, 1336421, 1336422, 1336423, 1336549,\n",
       "       1351919, 1351920, 1351921, 1352045, 1352046, 1352047, 1352048,\n",
       "       1352171, 1352172, 1352173, 1352297, 1352298, 1352299, 1368047,\n",
       "       1368173, 1368174], dtype=int64)"
      ]
     },
     "execution_count": 627,
     "metadata": {},
     "output_type": "execute_result"
    }
   ],
   "source": [
    "tree = v.get('selected')\n",
    "tree_points = pcd_array[tree]\n",
    "tree_voxel_id = voxelgrid.query(tree_points)\n",
    "len(tree_voxel_id)\n",
    "tree_voxel_id = np.unique(tree_voxel_id)\n",
    "tree_voxel_id"
   ]
  },
  {
   "cell_type": "markdown",
   "metadata": {},
   "source": [
    "## Finding the Voxel indecies"
   ]
  },
  {
   "cell_type": "code",
   "execution_count": 628,
   "metadata": {},
   "outputs": [],
   "source": [
    "# #finding voxel indices in occupied_voxel\n",
    "tree1_indecies = []\n",
    "for i, voxel in enumerate(occupied_voxels):\n",
    "\n",
    "    for t1 in tree_voxel_id:\n",
    "        if voxel == t1:\n",
    "            tree1_indecies.append(i)\n",
    "#tree1_indecies = [4, 5, 6, 7, 8, 9, 10, 11, 42, 43, 44, 45, 46, 47, 48, 49, 50, 174, 175, 176]\n",
    "#tree1_indecies = [6, 44, 45]\n",
    "\n",
    "\n"
   ]
  },
  {
   "cell_type": "markdown",
   "metadata": {},
   "source": [
    "## Features stats and visualization of selected voxels"
   ]
  },
  {
   "cell_type": "code",
   "execution_count": 629,
   "metadata": {},
   "outputs": [],
   "source": [
    "selected_tree_points = np.zeros((1,3))\n",
    "for i in tree1_indecies:\n",
    "    voxel = occupied_voxels[i]\n",
    "    tmp = np.where(voxelgrid.voxel_n == voxel)\n",
    "    voxel_points = pcd_array[tmp]\n",
    "    selected_tree_points = np.append(selected_tree_points, voxel_points[:,:3], axis=0)\n",
    "\n",
    "# # Delete the initial zeros\n",
    "selected_building_points = np.delete(selected_tree_points, 0, axis=0)\n",
    "\n",
    "building = o3d.geometry.PointCloud()\n",
    "building.points = o3d.utility.Vector3dVector(selected_building_points)\n",
    "building.paint_uniform_color([0, 1, 0])\n",
    "o3d.visualization.draw_geometries([building])"
   ]
  },
  {
   "cell_type": "markdown",
   "metadata": {},
   "source": [
    "## Ground truth"
   ]
  },
  {
   "cell_type": "code",
   "execution_count": 630,
   "metadata": {},
   "outputs": [
    {
     "name": "stdout",
     "output_type": "stream",
     "text": [
      "[8.89830001e-01 2.74336982e-03 2.16347135e-03 2.60931148e-03\n",
      " 8.94734396e-01 8.92573371e-01 8.56252093e-03 1.20086706e-03\n",
      " 6.86070175e-01 8.71463717e-02 4.92788267e+01]\n"
     ]
    }
   ],
   "source": [
    "tree1_mean_feature = np.mean([features[v_i] for v_i in tree1_indecies], axis=0)\n",
    "\n",
    "\n",
    "#Mine\n",
    "# tree1_mean_feature = np.array([7.99025145e-01, 1.59478541e-02, 3.20881882e-03, 7.33456574e-03, 8.17651873e-01, 8.14972999e-01, 2.64944870e-02, 1.85358220e-03, 4.56363636e-01, 4.70674218e-02, 20 ])\n",
    "# angle: 4.99243650e+01\n",
    "\n",
    "#Sarun\n",
    "# tree1_mean_feature = np.array([0.23167487, 0.45972011, 0.11485502, 0.15384777, 0.80625, 0.69139498, 0.66793328, 0.05757029, 0.45966295, 0.05032597, 20.97007081])\n",
    "\n",
    "#Alfred\n",
    "# tree1_mean_feature = np.array([0.3241482310307115, 0.33303603180630464, 0.3428157371629839, 0.28171727165415233, 12.385173027039873, 0.6571842628370163, 0.9736421385613483, 0.16015040965855912, 0.8417498588562011, 0.10096039720609315, 0])\n",
    "\n",
    "# fra excel\n",
    "\n",
    "# tree1_mean_feature = np.array([0.8857016063, 0.0007450292, 0.0017620378, 0.0021789505, 0.8878655635, 0.8864466358, 0.0067251914, 0.0010698856, 0.6482156075, 0.0741382717, 59.9002451250])\n",
    "\n",
    "\n",
    "print(tree1_mean_feature)"
   ]
  },
  {
   "cell_type": "markdown",
   "metadata": {},
   "source": [
    "## Classification of trees"
   ]
  },
  {
   "cell_type": "code",
   "execution_count": 979,
   "metadata": {},
   "outputs": [
    {
     "name": "stdout",
     "output_type": "stream",
     "text": [
      "214\n"
     ]
    }
   ],
   "source": [
    "tree_voxels = []\n",
    "for i, feature in enumerate(features):\n",
    "    L = np.abs(feature[0] - tree1_mean_feature[0])\n",
    "    P = np.abs(feature[1] - tree1_mean_feature[1])\n",
    "    S = feature[2]\n",
    "    O = feature[3]\n",
    "    sumEvN = np.abs(feature[4] - tree1_mean_feature[4])\n",
    "    A = np.abs(feature[5] - tree1_mean_feature[5])\n",
    "    Eigentrophy = np.abs(feature[6] - tree1_mean_feature[6])\n",
    "\n",
    "    E = feature[6]\n",
    "\n",
    "    change_curvature = np.abs(feature[7] - tree1_mean_feature[7])\n",
    "    z_range = feature[8]\n",
    "    st_plane = feature[9]\n",
    "    angle = feature[10]\n",
    "    #sarun\n",
    "    #if L < 0.2 and P < 0.2 and angle > 10 and z_range > 0.2 and S > 0.07 and O > 0.2:\n",
    "    #    tree_voxels.append(i)\n",
    "    #min\n",
    "    #if L < 0.7 and P < 0.4 and A < 0.4 and Eigentrophy < 0.8 and z_range > 0.2 and angle > 10:\n",
    "    #    tree_voxels.append(i)\n",
    "\n",
    "    #pba excel, ganske fornøyd\n",
    "    z_range = feature[8]\n",
    "    S = feature[2]\n",
    "    E = feature[6]\n",
    "    if z_range > 0.5 and S>0.00000001 and E > 0.0000005:\n",
    "        tree_voxels.append(i)\n",
    "    #L<0.110169985\n",
    "    # S>0.00000001 bra\n",
    "    # E > 0.0000005 bra\n",
    "    # angle>65 tar for sæ mye\n",
    "    # z_range > 0.5 bra\n",
    "print(len(tree_voxels))"
   ]
  },
  {
   "cell_type": "markdown",
   "metadata": {},
   "source": [
    "## Finding point cloud of classified voxels"
   ]
  },
  {
   "cell_type": "code",
   "execution_count": 728,
   "metadata": {},
   "outputs": [],
   "source": [
    "# # Initialize the point arrays\n",
    "tree_points = np.zeros((1,3))\n",
    "\n",
    "for i in tree_voxels:\n",
    "    voxel = occupied_voxels[i]\n",
    "    tmp = np.where(voxelgrid.voxel_n == voxel)\n",
    "    voxel_points = pcd_array[tmp]\n",
    "    tree_points = np.append(tree_points, voxel_points[:,:3], axis=0)\n",
    "\n",
    "# #Delete first point\n",
    "tree_points = np.delete(tree_points, 0, axis=0)"
   ]
  },
  {
   "cell_type": "markdown",
   "metadata": {},
   "source": [
    "## Visualizing trees"
   ]
  },
  {
   "cell_type": "code",
   "execution_count": 729,
   "metadata": {},
   "outputs": [
    {
     "name": "stdout",
     "output_type": "stream",
     "text": [
      "[Open3D WARNING] GLFW Error: WGL: Failed to make context current: The handle is invalid. \n"
     ]
    }
   ],
   "source": [
    "tree_cloud = o3d.geometry.PointCloud()\n",
    "tree_cloud.points = o3d.utility.Vector3dVector(tree_points)\n",
    "tree_cloud.paint_uniform_color([0, 1, 0])\n",
    "o3d.visualization.draw_geometries([tree_cloud])"
   ]
  },
  {
   "cell_type": "markdown",
   "metadata": {},
   "source": [
    "# Terrain selection"
   ]
  },
  {
   "cell_type": "markdown",
   "metadata": {},
   "source": [
    "## Selecting terrain"
   ]
  },
  {
   "cell_type": "code",
   "execution_count": 987,
   "metadata": {},
   "outputs": [],
   "source": [
    "v = pptk.viewer(pcd_sub.points)\n",
    "v.set(point_size=0.005)"
   ]
  },
  {
   "cell_type": "code",
   "execution_count": 603,
   "metadata": {},
   "outputs": [
    {
     "name": "stdout",
     "output_type": "stream",
     "text": [
      "[466893 467019 467145 467271 467397 467523 467524 467649 467775 482770\n",
      " 482895 482896 483021 483022 483147 483148 483273 483274 483399 483400\n",
      " 483525 483526 483651 483652 483777 483778 483903 483904 498646 498772\n",
      " 498898 499024 499150 499276 499402 499528 499654 499780 499906 514397\n",
      " 514522 514523 514648 514649 514774 514775 514900 514901 515026 515027\n",
      " 515152 515153 515278 515279 515404 515530 515656 530399 530525 530651\n",
      " 530777 530903 531028 531029 531154 531155 531280 531281 531406 531532\n",
      " 546275 546401 546527 546653 546779 546904 546905 547030 547031 547156\n",
      " 547157 547282 547283 547408 562403 562529 562655 562781 562907 563032\n",
      " 563033 563158 563159 563284 563285 563410 578909 579035 579161 579287]\n"
     ]
    }
   ],
   "source": [
    "terrain_selected = v.get('selected')\n",
    "terrain_points = pcd_array[terrain_selected]\n",
    "terrain_voxel_id = voxelgrid.query(terrain_points)\n",
    "terrain_voxel_id = np.unique(terrain_voxel_id)\n",
    "print(terrain_voxel_id)"
   ]
  },
  {
   "cell_type": "markdown",
   "metadata": {},
   "source": [
    "## Finding terrain voxel and calulating mean features for ground truth"
   ]
  },
  {
   "cell_type": "code",
   "execution_count": 604,
   "metadata": {},
   "outputs": [],
   "source": [
    "# #finding voxel indices in occupied_voxel\n",
    "terrain_indecies = []\n",
    "for i, voxel in enumerate(occupied_voxels):\n",
    "\n",
    "    for t1 in terrain_voxel_id:\n",
    "        if voxel == t1:\n",
    "            terrain_indecies.append(i)\n"
   ]
  },
  {
   "cell_type": "code",
   "execution_count": 607,
   "metadata": {},
   "outputs": [
    {
     "name": "stdout",
     "output_type": "stream",
     "text": [
      "[9.39983927e-01 9.40591051e-06 6.66713625e-06 1.96987694e-04\n",
      " 9.39999969e-01 9.39993333e-01 2.19764936e-04 6.66518356e-06\n",
      " 1.85800000e-01 8.73667397e-03 7.47055445e+01]\n"
     ]
    }
   ],
   "source": [
    "# [Linearity, Planarity, Scatteing, Omnivariance, Sum Eigenvalues, Anistrophy, eignetrophy, Change of curvature, z-range, StD from plane, angle]\n",
    "\n",
    "terrain_mean_feature = np.mean([features[v_i] for v_i in terrain_indecies], axis=0)\n",
    "print(terrain_mean_feature)\n",
    "#Sarun\n",
    "#terrain_mean_feature = np.array([1.39090066e-01, 7.76421146e-01, 2.34028906e-03, 4.50057163e-02, 9.17851501e-01, 9.15511212e-01, 6.27657881e-01, 1.29142198e-03, 1.59202212e-01, 5.77090346e-03, 8.09390507e+00])\n",
    "\n",
    "# ##GROUND TRUTH\n",
    "#min\n",
    "#terrain_mean_feature = np.array([9.99999984e-01, 9.56474653e-09, 6.62514249e-09, 4.67089482e-06, 1.00000000e+00, 9.99999993e-01, 4.37086500e-07, 6.62514232e-09, 1.72842105e-01, 2.58821045e-03, 8.63182586e+01])\n",
    "\n",
    "#Calculated in excel\n",
    "#terrain_mean_feature = np.array([0.8841605248, 0.0039894370, 0.0008040950, 0.0018882005, 0.8888215600, 0.8881499615, 0.0066831882, 0.0004652851, 0.2588250910, 0.0217988055, 78.6775515250])\n",
    "\n",
    "\n"
   ]
  },
  {
   "cell_type": "markdown",
   "metadata": {},
   "source": [
    "## Classifying terrain"
   ]
  },
  {
   "cell_type": "code",
   "execution_count": 982,
   "metadata": {},
   "outputs": [
    {
     "name": "stdout",
     "output_type": "stream",
     "text": [
      "9216\n"
     ]
    }
   ],
   "source": [
    "terrain_voxels = []\n",
    "for i, feature in enumerate(features):\n",
    "    L = np.abs(feature[0] - terrain_mean_feature[0])\n",
    "    P = np.abs(feature[1] - terrain_mean_feature[1])\n",
    "    S = np.abs(feature[2] - terrain_mean_feature[2])\n",
    "    O = np.abs(feature[3] - terrain_mean_feature[3])\n",
    "    sumEvN = np.abs(feature[4] - terrain_mean_feature[4])\n",
    "    A = np.abs(feature[5] - terrain_mean_feature[5])\n",
    "    Eigentrhopy = np.abs(feature[6] - terrain_mean_feature[6])\n",
    "    change_curvature = np.abs(feature[7] - terrain_mean_feature[7])\n",
    "    z_range = np.abs(feature[8] - terrain_mean_feature[8])\n",
    "    st_plane = np.abs(feature[9] - terrain_mean_feature[9])\n",
    "    angle = feature[10]\n",
    "    # Sarun\n",
    "    #score = np.sum(L+P+S+O+change_curvature+z_range)\n",
    "    #if score < 0.5: \n",
    "    #    terrain_voxels.append(i)\n",
    "\n",
    "    #min\n",
    "    # if z_range < 0.3 and st_plane <0.03 and P < 0.000001 and S < 0.000001 and O < 0.00001 : \n",
    "    #    terrain_voxels.append(i)\n",
    "\n",
    "\n",
    "    #from excel\n",
    "    scat = feature[2]\n",
    "    h = feature[8]\n",
    "\n",
    "    if scat<0.00001 and h<0.22: \n",
    "        terrain_voxels.append(i)\n",
    "    #L > 0.08696396\n",
    "    \n",
    "print(len(terrain_voxels))\n"
   ]
  },
  {
   "cell_type": "markdown",
   "metadata": {},
   "source": [
    "## Finding cloud point and visualizing cloud points"
   ]
  },
  {
   "cell_type": "code",
   "execution_count": 981,
   "metadata": {},
   "outputs": [
    {
     "name": "stdout",
     "output_type": "stream",
     "text": [
      "[Open3D WARNING] GLFW Error: WGL: Failed to make context current: The requested transformation operation is not supported. \n",
      "[Open3D WARNING] GLFW Error: WGL: Failed to make context current: The handle is invalid. \n"
     ]
    }
   ],
   "source": [
    "# Time: 14 000p => 4min\n",
    "# # # Initialize the point arrays\n",
    "terrain_points = np.zeros((1,3))\n",
    "\n",
    "for i in terrain_voxels:\n",
    "    voxel = occupied_voxels[i]\n",
    "    tmp = np.where(voxelgrid.voxel_n == voxel)\n",
    "    voxel_points = pcd_array[tmp]\n",
    "    terrain_points = np.append(terrain_points, voxel_points[:,:3], axis=0)\n",
    "\n",
    "# #VISUALIZE\n",
    "terrain_points = np.delete(terrain_points, 0, axis=0)\n",
    "terrain_cloud = o3d.geometry.PointCloud()\n",
    "terrain_cloud.points = o3d.utility.Vector3dVector(terrain_points)\n",
    "terrain_cloud.paint_uniform_color([0, 1, 0])\n",
    "o3d.visualization.draw_geometries([terrain_cloud])"
   ]
  },
  {
   "cell_type": "markdown",
   "metadata": {},
   "source": [
    "# Classifying all the Voxels\n",
    "### with the ground truth and parameters found above."
   ]
  },
  {
   "cell_type": "code",
   "execution_count": 101,
   "metadata": {},
   "outputs": [],
   "source": [
    "building_mean_feature = np.array([3.16798368e-01, 5.91370207e-01, 3.18314249e-02, 1.06457223e-01, 9.40000000e-01, 9.08168575e-01, 6.65824570e-01, 1.77401593e-02, 4.70950000e-01, 2.53849077e-02, 2.21350506e+01])\n",
    "tree1_mean_feature = np.array([0.23167487, 0.45972011, 0.11485502, 0.15384777, 0.80625, 0.69139498, 0.66793328, 0.05757029, 0.45966295, 0.05032597, 20.97007081])\n",
    "terrain_mean_feature = np.array([1.39090066e-01, 7.76421146e-01, 2.34028906e-03, 4.50057163e-02, 9.17851501e-01, 9.15511212e-01, 6.27657881e-01, 1.29142198e-03, 1.59202212e-01, 5.77090346e-03, 8.09390507e+00]) "
   ]
  },
  {
   "cell_type": "markdown",
   "metadata": {},
   "source": [
    "## Classifying"
   ]
  },
  {
   "cell_type": "code",
   "execution_count": 983,
   "metadata": {},
   "outputs": [],
   "source": [
    "terrain_voxels = []\n",
    "tree_voxels = []\n",
    "building_voxels = []\n",
    "unclassified_voxels = []\n",
    "\n",
    "for i, feature in enumerate(features):\n",
    "    cc = feature[7]\n",
    "    h = feature[8]\n",
    "    angle = feature[10]\n",
    "\n",
    "    if 0.1<h<0.7 and angle<70 and cc<0.00001:\n",
    "      building_voxels.append(i)\n",
    "      continue\n",
    "##  TODO: make function\n",
    "    #BUILDING CLASSIFICATION\n",
    "    #L3 = np.abs(feature[0] - building_mean_feature[0])\n",
    "    #P3 = np.abs(feature[1] - building_mean_feature[1])\n",
    "    #S3 = np.abs(feature[2] - building_mean_feature[2])\n",
    "    #O3 = np.abs(feature[3] - building_mean_feature[3])\n",
    "    #sumEvN3 = np.abs(feature[4] - building_mean_feature[4])\n",
    "    #A3 = np.abs(feature[5] - building_mean_feature[5])\n",
    "    #Eigentrhopy3 = np.abs(feature[6] - building_mean_feature[6])\n",
    "    #change_curvature3 = np.abs(feature[7] - building_mean_feature[7])\n",
    "    #z_range3 = np.abs(feature[8] - building_mean_feature[8])\n",
    "    #st_plane3 =np.abs(feature[9] - building_mean_feature[9])\n",
    "    #angle3 = feature[10]\n",
    "\n",
    "    #if L3 < 0.8 and P3 < 0.5 and S3 < 0.08 and A3 < 0.12 and change_curvature3 > 0.01 and z_range3 < 0.3 and st_plane3 < 0.035 and angle3 > 10 and angle3 < 40: \n",
    "    #    building_voxels.append(i)\n",
    "    #    continue\n",
    "\n",
    "    \n",
    "\n",
    "##  TODO: make function\n",
    "    z_range = feature[8]\n",
    "    S = feature[2]\n",
    "    E = feature[6]\n",
    "    if z_range > 0.5 and S>0.00000001 and E > 0.0000005:\n",
    "        tree_voxels.append(i)\n",
    "        continue\n",
    "    #TREE CLASSIFICATION\n",
    "    #L2 = np.abs(feature[0] - tree1_mean_feature[0])\n",
    "    #P2 = np.abs(feature[1] - tree1_mean_feature[1])\n",
    "    #S2 = feature[2]\n",
    "    #O2 = feature[3]\n",
    "    #sumEvN2 = np.abs(feature[4] - tree1_mean_feature[4])\n",
    "    #A2 = np.abs(feature[5] - tree1_mean_feature[5])\n",
    "    #Eigentrhopy2 = np.abs(feature[6] - tree1_mean_feature[6])\n",
    "    #change_curvature2 = np.abs(feature[7] - tree1_mean_feature[7])\n",
    "    #z_range2 = feature[8]\n",
    "    #st_plane2 = feature[9]\n",
    "    #angle2 = feature[10]\n",
    "    \n",
    "    #if L2 < 0.4 and P2 < 0.4 and angle2 > 10 and z_range2 > 0.1 and st_plane2 > 0.04 and S2 > 0.03 and O2 > 0.2:\n",
    "    #    tree_voxels.append(i)\n",
    "    #    continue\n",
    "\n",
    "#  TODO: make function\n",
    "    #TERRAIN CLASSIFICATION\n",
    "    scat = feature[2]\n",
    "    h = feature[8]\n",
    "\n",
    "    if scat<0.00001 and h<0.22: \n",
    "        terrain_voxels.append(i)\n",
    "        continue\n",
    "\n",
    "    #L1 = np.abs(feature[0] - terrain_mean_feature[0])\n",
    "    #P1 = np.abs(feature[1] - terrain_mean_feature[1])\n",
    "    #S1 = np.abs(feature[2] - terrain_mean_feature[2])\n",
    "    #O1 = np.abs(feature[3] - terrain_mean_feature[3])\n",
    "    #sumEvN1 = np.abs(feature[4] - terrain_mean_feature[4])\n",
    "    #A1 = np.abs(feature[5] - terrain_mean_feature[5])\n",
    "    #Eigentrhopy1 = np.abs(feature[6] - terrain_mean_feature[6])\n",
    "    #change_curvature1 = np.abs(feature[7] - terrain_mean_feature[7])\n",
    "    #z_range1 = np.abs(feature[8] - terrain_mean_feature[8])\n",
    "    #st_plane1 = np.abs(feature[9] - terrain_mean_feature[9])\n",
    "    #angle1 = feature[10]\n",
    "    #\n",
    "    #score = np.sum(L1+P1+S1+O1+change_curvature1+z_range1)\n",
    "    #if score < 1: \n",
    "    #    terrain_voxels.append(i)\n",
    "    #    continue   \n",
    "\n",
    "    #Adding indecies to unclassified list\n",
    "    unclassified_voxels.append(i)\n",
    "    "
   ]
  },
  {
   "cell_type": "markdown",
   "metadata": {},
   "source": [
    "## Visualizing results"
   ]
  },
  {
   "cell_type": "code",
   "execution_count": 984,
   "metadata": {},
   "outputs": [
    {
     "name": "stdout",
     "output_type": "stream",
     "text": [
      "Terrain voxel classified 9178, Tree voxel classified 190, Building voxel classified 1129, voxel unclassified 8322\n"
     ]
    }
   ],
   "source": [
    "print(f\"Terrain voxel classified {len(terrain_voxels)}, Tree voxel classified {len(tree_voxels)}, Building voxel classified {len(building_voxels)}, voxel unclassified {len(unclassified_voxels)}\")"
   ]
  },
  {
   "cell_type": "code",
   "execution_count": 985,
   "metadata": {},
   "outputs": [],
   "source": [
    "def voxel_to_cloudpoints(x_voxels, occupied_voxels, pcd_array, voxelgrid):\n",
    "    x_points = np.zeros((1,3))\n",
    "\n",
    "    for i in x_voxels:\n",
    "        voxel = occupied_voxels[i]\n",
    "        tmp = np.where(voxelgrid.voxel_n == voxel)\n",
    "        voxel_points = pcd_array[tmp]\n",
    "        x_points = np.append(x_points, voxel_points[:,:3], axis=0)\n",
    "\n",
    "    x_points = np.delete(x_points, 0, axis=0)\n",
    "    return x_points"
   ]
  },
  {
   "cell_type": "markdown",
   "metadata": {},
   "source": [
    "### NOTE: this cell takes around 5 min to run"
   ]
  },
  {
   "cell_type": "code",
   "execution_count": 986,
   "metadata": {},
   "outputs": [
    {
     "name": "stdout",
     "output_type": "stream",
     "text": [
      "[Open3D WARNING] GLFW Error: WGL: Failed to make context current: The handle is invalid. \n",
      "[Open3D WARNING] GLFW Error: WGL: Failed to make context current: The requested transformation operation is not supported. \n",
      "[Open3D WARNING] GLFW Error: WGL: Failed to make context current: The handle is invalid. \n",
      "[Open3D WARNING] GLFW Error: WGL: Failed to make context current: The requested transformation operation is not supported. \n",
      "[Open3D WARNING] GLFW Error: WGL: Failed to make context current: The handle is invalid. \n"
     ]
    }
   ],
   "source": [
    "# Initialize the point arrays\n",
    "terrain_points = voxel_to_cloudpoints(terrain_voxels, occupied_voxels, pcd_array, voxelgrid)\n",
    "tree_points = voxel_to_cloudpoints(tree_voxels, occupied_voxels, pcd_array, voxelgrid)\n",
    "building_points = voxel_to_cloudpoints(building_voxels, occupied_voxels, pcd_array, voxelgrid)\n",
    "\n",
    "#VISUALIZE\n",
    "building = o3d.geometry.PointCloud()\n",
    "building.points = o3d.utility.Vector3dVector(building_points)\n",
    "building.paint_uniform_color([1, 0, 0])\n",
    "\n",
    "terrain = o3d.geometry.PointCloud()\n",
    "terrain.points = o3d.utility.Vector3dVector(terrain_points)\n",
    "terrain.paint_uniform_color([0, 1, 0])\n",
    "\n",
    "tree = o3d.geometry.PointCloud()\n",
    "tree.points = o3d.utility.Vector3dVector(tree_points)\n",
    "tree.paint_uniform_color([0, 0, 1])\n",
    "\n",
    "# o3d.visualization.draw_geometries([building, terrain, tree])\n",
    "\n",
    "# Voxelgrid\n",
    "voxel_grid1 = o3d.geometry.VoxelGrid.create_from_point_cloud(tree, voxel_size=voxel_size)\n",
    "voxel_grid2 = o3d.geometry.VoxelGrid.create_from_point_cloud(terrain, voxel_size=voxel_size)\n",
    "voxel_grid3 = o3d.geometry.VoxelGrid.create_from_point_cloud(building, voxel_size=voxel_size)\n",
    "o3d.visualization.draw_geometries([voxel_grid1, voxel_grid2, voxel_grid3])"
   ]
  },
  {
   "cell_type": "markdown",
   "metadata": {},
   "source": [
    "# Evaluations"
   ]
  },
  {
   "cell_type": "code",
   "execution_count": null,
   "metadata": {},
   "outputs": [],
   "source": [
    "# v = pptk.viewer(pcd_sub.points)\n",
    "# v.set(point_size=0.005)"
   ]
  },
  {
   "cell_type": "code",
   "execution_count": null,
   "metadata": {},
   "outputs": [],
   "source": [
    "# building = v.get('selected')\n",
    "# builing_points = pcd_array[building]\n",
    "# building_voxel_id = voxelgrid.query(builing_points)\n",
    "# building_voxel_id = np.unique(building_voxel_id)\n",
    "# building_voxel_id\n"
   ]
  },
  {
   "cell_type": "code",
   "execution_count": null,
   "metadata": {},
   "outputs": [],
   "source": [
    "terreng = np.array([ 440911,  441074,  441075,  441238,  467970,  468134,  468135, 468298,  543415,  543416,  543580,  570476, 1394403, 1394567, 1409502, 1421463, 1421627, 1436398, 1436562, 1436726, 1463458,\n",
    "       1463622, 1463623, 1463786, 2131254, 2131418, 2131582, 2719204, 2719368, 3055881, 3055882, 3056045, 3056209, 3082941, 3082942, 3083105, 3083269, 3110165, 3110329, 3155275])\n",
    "\n",
    "tree = np.array([214254,  241150,  241314,  241315,  241478, 295927,  295928,  296090,  296091,  296092, 1713724, 1713725, 1713726, 1713727, 1713888, 4154531, 4154532, 4154694, 4154695, 4154696,\n",
    "             4154859, 4154860, 4181589, 4181590, 4181591, 4181592,  377272,  377433,  377434,  377435,  377436,  1713889, 1713890, 1740621, 1740622, 1740623, 268538,  268866,  268867,  269031])\n",
    "\n",
    "building = np.array([ 761701,  763506,  763670,  788762,  788763,\n",
    "        788927,  923407,  950467, 1032467, 1032631, 1279778, 1279942,\n",
    "       1306838, 1307002, 1388510, 2046964, 2047783, 2074024, 2098297,\n",
    "       2098626, 2098790, 2125357, 2197525, 2197689, 2224585, 2224749,\n",
    "       2660005, 2660006, 2661317, 2661481, 2688377, 2688541, 3262698,\n",
    "       3262862, 3289758, 3289922, 3751416, 3751580, 3778476, 3778640])\n"
   ]
  },
  {
   "cell_type": "code",
   "execution_count": null,
   "metadata": {},
   "outputs": [],
   "source": [
    "#Eval terrain\n",
    "terreng_true = 0\n",
    "terreng_tree_true = 0\n",
    "terreng_building_true = 0\n",
    "\n",
    "#eval tree\n",
    "tree_true = 0\n",
    "tree_terreng_true = 0\n",
    "tree_building_true = 0\n",
    "\n",
    "#eval \n",
    "building_true = 0\n",
    "building_tree_true = 0\n",
    "building_terreng_true = 0\n",
    "\n",
    "\n",
    "\n",
    "for i in terrain_voxels:\n",
    "    voxel = occupied_voxels[i]\n",
    "\n",
    "    for true_voxel in terreng:\n",
    "        if voxel == true_voxel:\n",
    "            terreng_true += 1\n",
    "            print(\"terreng \",voxel)\n",
    "\n",
    "    for true_voxel in tree:\n",
    "        if voxel == true_voxel:\n",
    "            terreng_tree_true += 1\n",
    "\n",
    "    for true_voxel in building:\n",
    "        if voxel == true_voxel:\n",
    "            print(\"building; \",voxel)\n",
    "            terreng_building_true += 1\n",
    "\n",
    "\n",
    "for i in tree_voxels:\n",
    "    voxel = occupied_voxels[i]\n",
    "    for true_voxel in tree:\n",
    "        if voxel == true_voxel:\n",
    "            tree_true += 1\n",
    "            \n",
    "\n",
    "    for true_voxel in building:\n",
    "        if voxel == true_voxel:\n",
    "            tree_building_true += 1\n",
    "\n",
    "    for true_voxel in terreng:\n",
    "        if voxel == true_voxel:\n",
    "            tree_terreng_true += 1\n",
    "\n",
    "for i in building_voxels:\n",
    "    voxel = occupied_voxels[i]\n",
    "    for true_voxel in building:\n",
    "        if voxel == true_voxel:\n",
    "            building_true += 1\n",
    "        \n",
    "    for true_voxel in terreng:\n",
    "        if voxel == true_voxel:\n",
    "            building_terreng_true += 1\n",
    "\n",
    "    for true_voxel in tree:\n",
    "        if voxel == true_voxel:\n",
    "            building_tree_true += 1\n",
    "\n",
    "        \n"
   ]
  },
  {
   "cell_type": "code",
   "execution_count": null,
   "metadata": {},
   "outputs": [],
   "source": [
    "# print(F\"Terreng {len(terreng)}, true: {terreng_true}, false tree {terreng_tree_true}, false building {terreng_building_true}\")\n",
    "# print(F\"Tree {len(tree)}, true: {tree_true}, false terreng {tree_terreng_true}, false building {tree_building_true}\")\n",
    "# print(F\"Building {len(building)}, true: {building_true} false terreng {building_terreng_true}, false tree {building_tree_true}\")"
   ]
  }
 ],
 "metadata": {
  "kernelspec": {
   "display_name": "Python 3.6.13 ('project')",
   "language": "python",
   "name": "python3"
  },
  "language_info": {
   "codemirror_mode": {
    "name": "ipython",
    "version": 3
   },
   "file_extension": ".py",
   "mimetype": "text/x-python",
   "name": "python",
   "nbconvert_exporter": "python",
   "pygments_lexer": "ipython3",
   "version": "3.8.0"
  },
  "orig_nbformat": 4,
  "vscode": {
   "interpreter": {
    "hash": "05c9d8f6031d16f0e5a749281dc666cf777ce155364daa3262f07cbaecde7b4e"
   }
  }
 },
 "nbformat": 4,
 "nbformat_minor": 2
}
